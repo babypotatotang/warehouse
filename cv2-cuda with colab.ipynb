{
  "nbformat": 4,
  "nbformat_minor": 0,
  "metadata": {
    "colab": {
      "private_outputs": true,
      "provenance": [],
      "machine_shape": "hm",
      "mount_file_id": "1u_VLI3dq92VN-Kx6xkO2qHgpBY0oJhuD",
      "authorship_tag": "ABX9TyO56xE69LCMyBJs1Pd2w4ay",
      "include_colab_link": true
    },
    "kernelspec": {
      "name": "python3",
      "display_name": "Python 3"
    },
    "language_info": {
      "name": "python"
    },
    "accelerator": "GPU",
    "gpuClass": "standard"
  },
  "cells": [
    {
      "cell_type": "markdown",
      "metadata": {
        "id": "view-in-github",
        "colab_type": "text"
      },
      "source": [
        "<a href=\"https://colab.research.google.com/github/babypotatotang/warehouse/blob/main/cv2-cuda%20with%20colab.ipynb\" target=\"_parent\"><img src=\"https://colab.research.google.com/assets/colab-badge.svg\" alt=\"Open In Colab\"/></a>"
      ]
    },
    {
      "cell_type": "markdown",
      "source": [
        "# **How to use cv2 cuda in colab**\n",
        "\n",
        "### You need to run this code only one time and download a file and that's it!"
      ],
      "metadata": {
        "id": "qroWF_F9de0o"
      }
    },
    {
      "cell_type": "markdown",
      "source": [
        "check version of python"
      ],
      "metadata": {
        "id": "4z_iOppxeVXT"
      }
    },
    {
      "cell_type": "code",
      "execution_count": null,
      "metadata": {
        "id": "rZf64DzGnGv2"
      },
      "outputs": [],
      "source": [
        " !python --version"
      ]
    },
    {
      "cell_type": "markdown",
      "source": [
        "uninstall original opencv "
      ],
      "metadata": {
        "id": "kZA5FWKAeS6F"
      }
    },
    {
      "cell_type": "code",
      "source": [
        "!pip uninstall opencv-contrib-python   "
      ],
      "metadata": {
        "id": "4XFJpxxEpwfJ"
      },
      "execution_count": null,
      "outputs": []
    },
    {
      "cell_type": "markdown",
      "source": [
        "run this code\n",
        "\n",
        "\n",
        "it will take a while aboue 2 - 4 hours. \n",
        "\n",
        "\n",
        "during running the code, check the directory of `linux-gnu.so` file "
      ],
      "metadata": {
        "id": "aFkLPp-qeMLQ"
      }
    },
    {
      "cell_type": "code",
      "source": [
        "\n",
        "%cd /content\n",
        "!git clone https://github.com/opencv/opencv\n",
        "!git clone https://github.com/opencv/opencv_contrib\n",
        "!mkdir /content/build\n",
        "%cd /content/build\n",
        "!cmake -DOPENCV_EXTRA_MODULES_PATH=/content/opencv_contrib/modules  -DBUILD_SHARED_LIBS=OFF  -DBUILD_TESTS=OFF  -DBUILD_PERF_TESTS=OFF -DBUILD_EXAMPLES=OFF -DWITH_OPENEXR=OFF -DWITH_CUDA=ON -DWITH_CUBLAS=ON -DWITH_CUDNN=ON -DOPENCV_DNN_CUDA=ON /content/opencv\n",
        "!make -j8 install"
      ],
      "metadata": {
        "id": "mdjfEmuIqIPi"
      },
      "execution_count": null,
      "outputs": []
    },
    {
      "cell_type": "markdown",
      "source": [
        "check the directory of `linux-gnu.so` file and check whether the file exists in the path\n",
        "\n",
        "in my case, the path is `/usr/local/lib/python3.8/site-packages/cv2/python-3.8`\n",
        "\n",
        "**even you can't find the file via folder tree or colab gui, just check it with `listdir`**"
      ],
      "metadata": {
        "id": "mROO_NUNeWfF"
      }
    },
    {
      "cell_type": "code",
      "source": [
        "import os\n",
        "\n",
        "os.listdir('/usr/local/lib/python3.8/site-packages/cv2/python-3.8') "
      ],
      "metadata": {
        "id": "nFk6Q4uoK5yK"
      },
      "execution_count": null,
      "outputs": []
    },
    {
      "cell_type": "markdown",
      "source": [
        "as we don't want to go through again the downloading time, copy the `linux-gnu.so` file to your google drive \n",
        "\n",
        "don't be afraid, it's okay to mount drive .. the session will remain"
      ],
      "metadata": {
        "id": "zhrUWGsre7Xz"
      }
    },
    {
      "cell_type": "code",
      "source": [
        "!mkdir \"/content/drive/MyDrive/cv2_cuda\"\n",
        "!cp  /usr/local/lib/python3.8/site-packages/cv2/python-3.8/cv2.cpython-38-x86_64-linux-gnu.so   \"/content/drive/MyDrive/cv2_cuda\" # save to your drive"
      ],
      "metadata": {
        "id": "wHxZgCpXOfE7"
      },
      "execution_count": null,
      "outputs": []
    },
    {
      "cell_type": "markdown",
      "source": [
        "check whether your installation is fine \n",
        "\n",
        "`cv2.__version__` should include **-dev** \n",
        "\n",
        "\n",
        "`cv2.cuda.getCudaEnabledDeviceCount()` should be at least 1 if you use GPU session in colab"
      ],
      "metadata": {
        "id": "KtsPfLlPfgcD"
      }
    },
    {
      "cell_type": "code",
      "source": [
        "import cv2\n",
        "\n",
        "print(cv2.__version__) \n",
        "print(cv2.cuda.getCudaEnabledDeviceCount())"
      ],
      "metadata": {
        "id": "Lg797MPLfjj5"
      },
      "execution_count": null,
      "outputs": []
    },
    {
      "cell_type": "markdown",
      "source": [
        "next time, if you want to use cv cuda, just run the code down below\n",
        "\n",
        "don't forget to uninstall the original opencv in your pip"
      ],
      "metadata": {
        "id": "E6ZosAGbfRLO"
      }
    },
    {
      "cell_type": "code",
      "source": [
        "!pip uninstall opencv-python\n",
        "%cd /content/drive/MyDrive/cv2_cuda\n",
        "!cp cv2.cpython-38-x86_64-linux-gnu.so /usr/local/lib/python3.8/dist-packages"
      ],
      "metadata": {
        "id": "Yv6c0cbWQFzG"
      },
      "execution_count": null,
      "outputs": []
    }
  ]
}